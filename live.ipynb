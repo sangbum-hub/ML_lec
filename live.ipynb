{
 "cells": [
  {
   "cell_type": "markdown",
   "metadata": {},
   "source": [
    "- 01_Data.csv 파일을 가져와 아래의 미션을 수행\n",
    "- Credit_Rank '신용등급'을 예측하는 회귀모델을 만들고자 한다.\n",
    "    - X : Age / Amount_Month / Term / Gender / Product_Type\n",
    "    - Y : Credit_Rank -> 결측값 fillna() 중앙값으로 변한\n",
    "    - 숫자데이터 : 결측처리 + Standard Scaling\n",
    "    - 문자데이터 : 결측처리 + One Hot Encoding\n",
    "    - 교차 검증 3회 / DecisionTreeRegressor / Param_grid = {}\n",
    "    - r2_score (from sklearn.metrics import r2_score)\n",
    "    - r2_score(Y_train, Y_train_pred) / r2_score(Y_test, Y_test_pred)"
   ]
  },
  {
   "cell_type": "code",
   "execution_count": 1,
   "metadata": {},
   "outputs": [],
   "source": [
    "import pandas as pd\n",
    "import matplotlib as mpl\n",
    "import seaborn as sns\n",
    "import plotly.express as px\n",
    "import scipy.stats as stats\n",
    "\n",
    "mpl.rc('font', family='Malgun Gothic')"
   ]
  },
  {
   "cell_type": "code",
   "execution_count": 2,
   "metadata": {},
   "outputs": [],
   "source": [
    "df1 = pd.read_csv('01_Data.csv')"
   ]
  },
  {
   "cell_type": "code",
   "execution_count": 3,
   "metadata": {},
   "outputs": [],
   "source": [
    "X = df1[['Age' , 'Amount_Month' , 'Term' , 'Gender' , 'Product_Type']]\n",
    "Y = df1['Credit_Rank'].fillna(df1['Credit_Rank'].median())\n",
    "# 지도학습에서 Y값은 정답지이기 때문에, 결측/이상치 처리를 미리 수행"
   ]
  },
  {
   "cell_type": "markdown",
   "metadata": {},
   "source": [
    "- Scikit Learn : \n",
    "    - model_selection : 데이터와 관련된 함수 (데이터 분할 / 데이터와 관련된 교차검증)\n",
    "    - preprocessing : 스케일링  및 인코딩과 같은 각 항목의 특성공학을 적용하는 함수\n",
    "    - impute : 결측값 대치\n",
    "    - metrics : 평가 관련 함수들"
   ]
  },
  {
   "cell_type": "code",
   "execution_count": 4,
   "metadata": {},
   "outputs": [],
   "source": [
    "# 학습데이터와 검증데이터를 분할\n",
    "from sklearn.model_selection import train_test_split\n",
    "# 파이프라인 \n",
    "from sklearn.compose import make_column_transformer\n",
    "from imblearn.pipeline import make_pipeline\n",
    "# 특성공학 (숫자데이터 처리 + 문자데이터 처리)\n",
    "from sklearn.impute import SimpleImputer\n",
    "from sklearn.preprocessing import StandardScaler\n",
    "from sklearn.preprocessing import OneHotEncoder\n",
    "# 교차검증\n",
    "from sklearn.model_selection import GridSearchCV\n",
    "from sklearn.tree import DecisionTreeRegressor\n",
    "# 평가\n",
    "from sklearn.metrics import r2_score"
   ]
  },
  {
   "cell_type": "code",
   "execution_count": 5,
   "metadata": {},
   "outputs": [],
   "source": [
    "X_train, X_test, Y_train, Y_test = train_test_split(X, Y, random_state=1234)"
   ]
  },
  {
   "cell_type": "code",
   "execution_count": 6,
   "metadata": {},
   "outputs": [],
   "source": [
    "numeric_pipe = make_pipeline(SimpleImputer(), StandardScaler())\n",
    "category_pipe = make_pipeline(SimpleImputer(strategy = 'most_frequent'), OneHotEncoder())"
   ]
  },
  {
   "cell_type": "code",
   "execution_count": 7,
   "metadata": {},
   "outputs": [
    {
     "name": "stdout",
     "output_type": "stream",
     "text": [
      "['Age', 'Amount_Month', 'Term'] ['Gender', 'Product_Type']\n"
     ]
    }
   ],
   "source": [
    "numeric_list = X.describe().columns.tolist()\n",
    "category_list = X.describe(include='object').columns.tolist()\n",
    "print(numeric_list, category_list)\n",
    "preprocessing_pipe = make_column_transformer((numeric_pipe, numeric_list), (category_pipe, category_list))\n",
    "preprocessing_pipe\n",
    "model_pipe = make_pipeline(preprocessing_pipe, DecisionTreeRegressor())"
   ]
  },
  {
   "cell_type": "code",
   "execution_count": 8,
   "metadata": {},
   "outputs": [],
   "source": [
    "grid_model = GridSearchCV(model_pipe, cv=3, param_grid={}, n_jobs=-1)\n",
    "grid_model.fit(X_train, Y_train)\n",
    "best_model = grid_model.best_estimator_"
   ]
  },
  {
   "cell_type": "code",
   "execution_count": 9,
   "metadata": {},
   "outputs": [],
   "source": [
    "Y_train_pred = best_model.predict(X_train)\n",
    "Y_test_pred = best_model.predict(X_test)"
   ]
  },
  {
   "cell_type": "code",
   "execution_count": 10,
   "metadata": {},
   "outputs": [
    {
     "data": {
      "text/plain": [
       "0.12753941706393723"
      ]
     },
     "execution_count": 10,
     "metadata": {},
     "output_type": "execute_result"
    }
   ],
   "source": [
    "r2_score(Y_train, Y_train_pred)"
   ]
  },
  {
   "cell_type": "code",
   "execution_count": 11,
   "metadata": {},
   "outputs": [
    {
     "data": {
      "text/plain": [
       "-0.0556295159932616"
      ]
     },
     "execution_count": 11,
     "metadata": {},
     "output_type": "execute_result"
    }
   ],
   "source": [
    "r2_score(Y_test, Y_test_pred)"
   ]
  },
  {
   "cell_type": "markdown",
   "metadata": {},
   "source": [
    "# Mission 10\n",
    "- '12_Data.csv'\n",
    "- 아래의 사례들의 대해 어떤 가설 검정 기법을 써야하는지 작성하시오.\n",
    "- ex. 10대와 20대의 주당방문횟수(정규성X)의 평균의 차이가 있는지 확인해야하는 상황\n",
    "    -> stats.ranksums()\n",
    "1. '방송구분'이라는 항목에서 '녹화방송'과 '재방송' 두 집단의 정규성을 띄지 않는 '상품주문수량'의 평균의 차이가 있는지 확인해야 하는 상황\n",
    "    -> stats.ranksums()\n",
    "2. 비정규 분포를 따르는 '판매단가'와 '수수료율'의 상관성을 확인해야 하는 상황\n",
    "    -> stats.spearmanr()\n",
    "3. '배송방식'과 '매입형태' 간의 연관성이 있는지 확인해야 하는 상황\n",
    "    -> stats.chi2_contigency()\n",
    "4. 정규분포를 따르며, 분산이 서로같은 '고객연령'에 대해, 고객의 주소지(3개이상) 별 연령의 평균이 차이가 있는지 확인해야 하는 상황\n",
    "    -> stats.f_oneway()\n",
    "5. 정규분포를 따르며, 분산이 서로 다른 '프로그램' 3종류에 따라 '매출액'의 평균이 다른지 확인해야하는 상황\n",
    "    -> stats.kruskal()"
   ]
  },
  {
   "cell_type": "code",
   "execution_count": 13,
   "metadata": {},
   "outputs": [],
   "source": [
    "import pandas as pd\n",
    "import matplotlib as mpl\n",
    "import matplotlib.pyplot as plt\n",
    "import seaborn as sns\n",
    "import plotly.express as px\n",
    "import scipy.stats as stats\n",
    "\n",
    "mpl.rc('font', family='Malgun Gothic')\n",
    "\n",
    "df1 = pd.read_csv('12_Data.csv')\n"
   ]
  },
  {
   "cell_type": "code",
   "execution_count": 14,
   "metadata": {},
   "outputs": [
    {
     "name": "stdout",
     "output_type": "stream",
     "text": [
      "<class 'pandas.core.frame.DataFrame'>\n",
      "RangeIndex: 26283 entries, 0 to 26282\n",
      "Data columns (total 25 columns):\n",
      " #   Column    Non-Null Count  Dtype  \n",
      "---  ------    --------------  -----  \n",
      " 0   방송Code    26283 non-null  float64\n",
      " 1   채널        26283 non-null  object \n",
      " 2   소요분       26283 non-null  float64\n",
      " 3   가중분       26283 non-null  float64\n",
      " 4   방송구분      26283 non-null  object \n",
      " 5   프로그램명     26283 non-null  object \n",
      " 6   상품ID      26283 non-null  int64  \n",
      " 7   상품명       26283 non-null  object \n",
      " 8   매입과세구분    26283 non-null  object \n",
      " 9   상품목표취급금액  26283 non-null  int64  \n",
      " 10  상품목표주문금액  26283 non-null  int64  \n",
      " 11  판매단가      26283 non-null  int64  \n",
      " 12  수수료율      26283 non-null  float64\n",
      " 13  상품주문수량    26283 non-null  int64  \n",
      " 14  상품주문금액    26283 non-null  int64  \n",
      " 15  상품취소수량    26283 non-null  int64  \n",
      " 16  상품취소금액    26283 non-null  int64  \n",
      " 17  ARS금액     26283 non-null  int64  \n",
      " 18  매입형태      26283 non-null  object \n",
      " 19  배송방식      26283 non-null  object \n",
      " 20  상품소요분     26283 non-null  float64\n",
      " 21  상품가중분     26283 non-null  float64\n",
      " 22  상품방송순번    26283 non-null  int64  \n",
      " 23  방송시작시간    26283 non-null  object \n",
      " 24  방송종료시간    26283 non-null  object \n",
      "dtypes: float64(6), int64(10), object(9)\n",
      "memory usage: 5.0+ MB\n"
     ]
    },
    {
     "data": {
      "text/plain": [
       "방송Code      0\n",
       "채널          0\n",
       "소요분         0\n",
       "가중분         0\n",
       "방송구분        0\n",
       "프로그램명       0\n",
       "상품ID        0\n",
       "상품명         0\n",
       "매입과세구분      0\n",
       "상품목표취급금액    0\n",
       "상품목표주문금액    0\n",
       "판매단가        0\n",
       "수수료율        0\n",
       "상품주문수량      0\n",
       "상품주문금액      0\n",
       "상품취소수량      0\n",
       "상품취소금액      0\n",
       "ARS금액       0\n",
       "매입형태        0\n",
       "배송방식        0\n",
       "상품소요분       0\n",
       "상품가중분       0\n",
       "상품방송순번      0\n",
       "방송시작시간      0\n",
       "방송종료시간      0\n",
       "dtype: int64"
      ]
     },
     "execution_count": 14,
     "metadata": {},
     "output_type": "execute_result"
    }
   ],
   "source": [
    "# 1. 데이터 구조와 타입을 확인하고, 결측값을 각 항목 별 결측값의 개수를 확인하시오.\n",
    "df1.info()\n",
    "df1.isnull().sum()"
   ]
  },
  {
   "cell_type": "code",
   "execution_count": 15,
   "metadata": {},
   "outputs": [
    {
     "data": {
      "text/plain": [
       "10473921.794871796"
      ]
     },
     "execution_count": 15,
     "metadata": {},
     "output_type": "execute_result"
    }
   ],
   "source": [
    "# 2. '방송구분'에서 '녹화방송'에 해당하는 데이터만 뽑아서, '상품목표주문금액'의 평균과 중앙값의 차이를 계산하시오\n",
    "cond1 = (df1['방송구분'] == '녹화방송')\n",
    "df1.loc[cond1]['상품목표주문금액'].mean() - df1.loc[cond1]['상품목표주문금액'].median()\n"
   ]
  },
  {
   "cell_type": "code",
   "execution_count": 16,
   "metadata": {},
   "outputs": [
    {
     "data": {
      "text/html": [
       "<div>\n",
       "<style scoped>\n",
       "    .dataframe tbody tr th:only-of-type {\n",
       "        vertical-align: middle;\n",
       "    }\n",
       "\n",
       "    .dataframe tbody tr th {\n",
       "        vertical-align: top;\n",
       "    }\n",
       "\n",
       "    .dataframe thead th {\n",
       "        text-align: right;\n",
       "    }\n",
       "</style>\n",
       "<table border=\"1\" class=\"dataframe\">\n",
       "  <thead>\n",
       "    <tr style=\"text-align: right;\">\n",
       "      <th></th>\n",
       "      <th>방송Code</th>\n",
       "      <th>채널</th>\n",
       "      <th>소요분</th>\n",
       "      <th>가중분</th>\n",
       "      <th>방송구분</th>\n",
       "      <th>프로그램명</th>\n",
       "      <th>상품ID</th>\n",
       "      <th>상품명</th>\n",
       "      <th>매입과세구분</th>\n",
       "      <th>상품목표취급금액</th>\n",
       "      <th>...</th>\n",
       "      <th>상품취소금액</th>\n",
       "      <th>ARS금액</th>\n",
       "      <th>매입형태</th>\n",
       "      <th>배송방식</th>\n",
       "      <th>상품소요분</th>\n",
       "      <th>상품가중분</th>\n",
       "      <th>상품방송순번</th>\n",
       "      <th>방송시작시간</th>\n",
       "      <th>방송종료시간</th>\n",
       "      <th>영업이익</th>\n",
       "    </tr>\n",
       "  </thead>\n",
       "  <tbody>\n",
       "    <tr>\n",
       "      <th>0</th>\n",
       "      <td>1.010036e+09</td>\n",
       "      <td>TV</td>\n",
       "      <td>50.0</td>\n",
       "      <td>52.7</td>\n",
       "      <td>녹화방송</td>\n",
       "      <td>재방_의류</td>\n",
       "      <td>10242138</td>\n",
       "      <td>[비지트인뉴욕콜렉션] 퓨어 캐시미어 롱코트</td>\n",
       "      <td>과세</td>\n",
       "      <td>65645345</td>\n",
       "      <td>...</td>\n",
       "      <td>9624136</td>\n",
       "      <td>1000</td>\n",
       "      <td>위탁매입</td>\n",
       "      <td>협력사배송</td>\n",
       "      <td>50.0</td>\n",
       "      <td>52.7</td>\n",
       "      <td>1</td>\n",
       "      <td>2020-01-03T00:10</td>\n",
       "      <td>2020-01-03T01:00</td>\n",
       "      <td>-30939347</td>\n",
       "    </tr>\n",
       "    <tr>\n",
       "      <th>1</th>\n",
       "      <td>1.019126e+09</td>\n",
       "      <td>TV</td>\n",
       "      <td>60.0</td>\n",
       "      <td>38.1</td>\n",
       "      <td>녹화방송</td>\n",
       "      <td>재방_건강식품</td>\n",
       "      <td>10092003</td>\n",
       "      <td>[한삼인]순홍삼진(50ml*30포)*7박스+쇼7_2</td>\n",
       "      <td>과세</td>\n",
       "      <td>23774849</td>\n",
       "      <td>...</td>\n",
       "      <td>2547305</td>\n",
       "      <td>1000</td>\n",
       "      <td>위탁매입</td>\n",
       "      <td>직택배</td>\n",
       "      <td>30.0</td>\n",
       "      <td>19.1</td>\n",
       "      <td>1</td>\n",
       "      <td>2020-01-03T01:00</td>\n",
       "      <td>2020-01-03T02:00</td>\n",
       "      <td>3040340</td>\n",
       "    </tr>\n",
       "    <tr>\n",
       "      <th>2</th>\n",
       "      <td>1.019226e+09</td>\n",
       "      <td>TV</td>\n",
       "      <td>60.0</td>\n",
       "      <td>38.1</td>\n",
       "      <td>녹화방송</td>\n",
       "      <td>재방_건강식품</td>\n",
       "      <td>10092743</td>\n",
       "      <td>[단품_한삼인] 순홍삼진(50ml*30포)*1박스</td>\n",
       "      <td>과세</td>\n",
       "      <td>23774849</td>\n",
       "      <td>...</td>\n",
       "      <td>0</td>\n",
       "      <td>0</td>\n",
       "      <td>위탁매입</td>\n",
       "      <td>직택배</td>\n",
       "      <td>30.0</td>\n",
       "      <td>19.1</td>\n",
       "      <td>2</td>\n",
       "      <td>2020-01-03T01:00</td>\n",
       "      <td>2020-01-03T02:00</td>\n",
       "      <td>-29178755</td>\n",
       "    </tr>\n",
       "    <tr>\n",
       "      <th>3</th>\n",
       "      <td>1.040337e+09</td>\n",
       "      <td>TV</td>\n",
       "      <td>60.0</td>\n",
       "      <td>19.7</td>\n",
       "      <td>재방송</td>\n",
       "      <td>재방_가공농산</td>\n",
       "      <td>10295865</td>\n",
       "      <td>이상용의 우리밀 크레마롤</td>\n",
       "      <td>과세</td>\n",
       "      <td>24568911</td>\n",
       "      <td>...</td>\n",
       "      <td>1080206</td>\n",
       "      <td>1000</td>\n",
       "      <td>위탁매입</td>\n",
       "      <td>협력사배송</td>\n",
       "      <td>60.0</td>\n",
       "      <td>19.7</td>\n",
       "      <td>1</td>\n",
       "      <td>2020-01-03T02:00</td>\n",
       "      <td>2020-01-03T03:00</td>\n",
       "      <td>-9043773</td>\n",
       "    </tr>\n",
       "    <tr>\n",
       "      <th>4</th>\n",
       "      <td>1.021427e+09</td>\n",
       "      <td>TV</td>\n",
       "      <td>60.0</td>\n",
       "      <td>16.1</td>\n",
       "      <td>재방송</td>\n",
       "      <td>재방_신선수산</td>\n",
       "      <td>10113666</td>\n",
       "      <td>국내산 자숙 문어슬라이스 120g*9팩</td>\n",
       "      <td>면세</td>\n",
       "      <td>20131383</td>\n",
       "      <td>...</td>\n",
       "      <td>238512</td>\n",
       "      <td>1000</td>\n",
       "      <td>위탁매입</td>\n",
       "      <td>협력사배송</td>\n",
       "      <td>60.0</td>\n",
       "      <td>16.1</td>\n",
       "      <td>1</td>\n",
       "      <td>2020-01-03T03:00</td>\n",
       "      <td>2020-01-03T04:00</td>\n",
       "      <td>-18459901</td>\n",
       "    </tr>\n",
       "    <tr>\n",
       "      <th>...</th>\n",
       "      <td>...</td>\n",
       "      <td>...</td>\n",
       "      <td>...</td>\n",
       "      <td>...</td>\n",
       "      <td>...</td>\n",
       "      <td>...</td>\n",
       "      <td>...</td>\n",
       "      <td>...</td>\n",
       "      <td>...</td>\n",
       "      <td>...</td>\n",
       "      <td>...</td>\n",
       "      <td>...</td>\n",
       "      <td>...</td>\n",
       "      <td>...</td>\n",
       "      <td>...</td>\n",
       "      <td>...</td>\n",
       "      <td>...</td>\n",
       "      <td>...</td>\n",
       "      <td>...</td>\n",
       "      <td>...</td>\n",
       "      <td>...</td>\n",
       "    </tr>\n",
       "    <tr>\n",
       "      <th>26278</th>\n",
       "      <td>1.046263e+13</td>\n",
       "      <td>TV</td>\n",
       "      <td>60.0</td>\n",
       "      <td>94.3</td>\n",
       "      <td>생방송</td>\n",
       "      <td>가전</td>\n",
       "      <td>11179512</td>\n",
       "      <td>■연말특가■제우스커브드 UHD TV 65형</td>\n",
       "      <td>과세</td>\n",
       "      <td>92367433</td>\n",
       "      <td>...</td>\n",
       "      <td>11783638</td>\n",
       "      <td>1000</td>\n",
       "      <td>위탁매입</td>\n",
       "      <td>협력사배송</td>\n",
       "      <td>19.9</td>\n",
       "      <td>32.6</td>\n",
       "      <td>1</td>\n",
       "      <td>2021-11-13T21:45</td>\n",
       "      <td>2021-11-13T22:45</td>\n",
       "      <td>-8303820</td>\n",
       "    </tr>\n",
       "    <tr>\n",
       "      <th>26279</th>\n",
       "      <td>1.046263e+13</td>\n",
       "      <td>TV</td>\n",
       "      <td>60.0</td>\n",
       "      <td>94.3</td>\n",
       "      <td>생방송</td>\n",
       "      <td>가전</td>\n",
       "      <td>11179514</td>\n",
       "      <td>2019 제우스 UHD TV 75형</td>\n",
       "      <td>과세</td>\n",
       "      <td>33698544</td>\n",
       "      <td>...</td>\n",
       "      <td>4683636</td>\n",
       "      <td>1000</td>\n",
       "      <td>위탁매입</td>\n",
       "      <td>협력사배송</td>\n",
       "      <td>26.7</td>\n",
       "      <td>41.9</td>\n",
       "      <td>2</td>\n",
       "      <td>2021-11-13T21:45</td>\n",
       "      <td>2021-11-13T22:45</td>\n",
       "      <td>33711022</td>\n",
       "    </tr>\n",
       "    <tr>\n",
       "      <th>26280</th>\n",
       "      <td>1.046263e+13</td>\n",
       "      <td>TV</td>\n",
       "      <td>60.0</td>\n",
       "      <td>94.3</td>\n",
       "      <td>생방송</td>\n",
       "      <td>가전</td>\n",
       "      <td>11179504</td>\n",
       "      <td>■연말특가■제우스커브드 UHD TV 55형</td>\n",
       "      <td>과세</td>\n",
       "      <td>17202608</td>\n",
       "      <td>...</td>\n",
       "      <td>3667275</td>\n",
       "      <td>1000</td>\n",
       "      <td>위탁매입</td>\n",
       "      <td>협력사배송</td>\n",
       "      <td>13.4</td>\n",
       "      <td>22.7</td>\n",
       "      <td>3</td>\n",
       "      <td>2021-11-13T21:45</td>\n",
       "      <td>2021-11-13T22:45</td>\n",
       "      <td>15789030</td>\n",
       "    </tr>\n",
       "    <tr>\n",
       "      <th>26281</th>\n",
       "      <td>1.020263e+13</td>\n",
       "      <td>TV</td>\n",
       "      <td>60.0</td>\n",
       "      <td>91.6</td>\n",
       "      <td>재방송</td>\n",
       "      <td>재방_건강식품</td>\n",
       "      <td>11152474</td>\n",
       "      <td>[래오이경제] 흑염소진액 70ml x 120포</td>\n",
       "      <td>과세</td>\n",
       "      <td>154250864</td>\n",
       "      <td>...</td>\n",
       "      <td>3879990</td>\n",
       "      <td>1000</td>\n",
       "      <td>위탁매입</td>\n",
       "      <td>협력사배송</td>\n",
       "      <td>60.0</td>\n",
       "      <td>91.6</td>\n",
       "      <td>1</td>\n",
       "      <td>2021-11-13T22:45</td>\n",
       "      <td>2021-11-13T23:45</td>\n",
       "      <td>-7366621</td>\n",
       "    </tr>\n",
       "    <tr>\n",
       "      <th>26282</th>\n",
       "      <td>1.042263e+13</td>\n",
       "      <td>TV</td>\n",
       "      <td>74.8</td>\n",
       "      <td>66.7</td>\n",
       "      <td>생방송</td>\n",
       "      <td>가공수산</td>\n",
       "      <td>10605593</td>\n",
       "      <td>완도 해조 쌀국수 40개_3</td>\n",
       "      <td>과세</td>\n",
       "      <td>112279963</td>\n",
       "      <td>...</td>\n",
       "      <td>2233653</td>\n",
       "      <td>1000</td>\n",
       "      <td>위탁매입</td>\n",
       "      <td>협력사배송</td>\n",
       "      <td>74.8</td>\n",
       "      <td>66.6</td>\n",
       "      <td>1</td>\n",
       "      <td>2021-11-13T23:45</td>\n",
       "      <td>2021-11-14T01:00</td>\n",
       "      <td>-6746216</td>\n",
       "    </tr>\n",
       "  </tbody>\n",
       "</table>\n",
       "<p>26283 rows × 26 columns</p>\n",
       "</div>"
      ],
      "text/plain": [
       "             방송Code  채널   소요분   가중분  방송구분    프로그램명      상품ID  \\\n",
       "0      1.010036e+09  TV  50.0  52.7  녹화방송    재방_의류  10242138   \n",
       "1      1.019126e+09  TV  60.0  38.1  녹화방송  재방_건강식품  10092003   \n",
       "2      1.019226e+09  TV  60.0  38.1  녹화방송  재방_건강식품  10092743   \n",
       "3      1.040337e+09  TV  60.0  19.7   재방송  재방_가공농산  10295865   \n",
       "4      1.021427e+09  TV  60.0  16.1   재방송  재방_신선수산  10113666   \n",
       "...             ...  ..   ...   ...   ...      ...       ...   \n",
       "26278  1.046263e+13  TV  60.0  94.3   생방송       가전  11179512   \n",
       "26279  1.046263e+13  TV  60.0  94.3   생방송       가전  11179514   \n",
       "26280  1.046263e+13  TV  60.0  94.3   생방송       가전  11179504   \n",
       "26281  1.020263e+13  TV  60.0  91.6   재방송  재방_건강식품  11152474   \n",
       "26282  1.042263e+13  TV  74.8  66.7   생방송     가공수산  10605593   \n",
       "\n",
       "                                상품명 매입과세구분   상품목표취급금액  ...    상품취소금액  ARS금액  \\\n",
       "0           [비지트인뉴욕콜렉션] 퓨어 캐시미어 롱코트     과세   65645345  ...   9624136   1000   \n",
       "1      [한삼인]순홍삼진(50ml*30포)*7박스+쇼7_2     과세   23774849  ...   2547305   1000   \n",
       "2       [단품_한삼인] 순홍삼진(50ml*30포)*1박스     과세   23774849  ...         0      0   \n",
       "3                     이상용의 우리밀 크레마롤     과세   24568911  ...   1080206   1000   \n",
       "4             국내산 자숙 문어슬라이스 120g*9팩     면세   20131383  ...    238512   1000   \n",
       "...                             ...    ...        ...  ...       ...    ...   \n",
       "26278       ■연말특가■제우스커브드 UHD TV 65형     과세   92367433  ...  11783638   1000   \n",
       "26279           2019 제우스 UHD TV 75형     과세   33698544  ...   4683636   1000   \n",
       "26280       ■연말특가■제우스커브드 UHD TV 55형     과세   17202608  ...   3667275   1000   \n",
       "26281     [래오이경제] 흑염소진액 70ml x 120포     과세  154250864  ...   3879990   1000   \n",
       "26282               완도 해조 쌀국수 40개_3     과세  112279963  ...   2233653   1000   \n",
       "\n",
       "       매입형태   배송방식  상품소요분  상품가중분  상품방송순번            방송시작시간            방송종료시간  \\\n",
       "0      위탁매입  협력사배송   50.0   52.7       1  2020-01-03T00:10  2020-01-03T01:00   \n",
       "1      위탁매입    직택배   30.0   19.1       1  2020-01-03T01:00  2020-01-03T02:00   \n",
       "2      위탁매입    직택배   30.0   19.1       2  2020-01-03T01:00  2020-01-03T02:00   \n",
       "3      위탁매입  협력사배송   60.0   19.7       1  2020-01-03T02:00  2020-01-03T03:00   \n",
       "4      위탁매입  협력사배송   60.0   16.1       1  2020-01-03T03:00  2020-01-03T04:00   \n",
       "...     ...    ...    ...    ...     ...               ...               ...   \n",
       "26278  위탁매입  협력사배송   19.9   32.6       1  2021-11-13T21:45  2021-11-13T22:45   \n",
       "26279  위탁매입  협력사배송   26.7   41.9       2  2021-11-13T21:45  2021-11-13T22:45   \n",
       "26280  위탁매입  협력사배송   13.4   22.7       3  2021-11-13T21:45  2021-11-13T22:45   \n",
       "26281  위탁매입  협력사배송   60.0   91.6       1  2021-11-13T22:45  2021-11-13T23:45   \n",
       "26282  위탁매입  협력사배송   74.8   66.6       1  2021-11-13T23:45  2021-11-14T01:00   \n",
       "\n",
       "           영업이익  \n",
       "0     -30939347  \n",
       "1       3040340  \n",
       "2     -29178755  \n",
       "3      -9043773  \n",
       "4     -18459901  \n",
       "...         ...  \n",
       "26278  -8303820  \n",
       "26279  33711022  \n",
       "26280  15789030  \n",
       "26281  -7366621  \n",
       "26282  -6746216  \n",
       "\n",
       "[26283 rows x 26 columns]"
      ]
     },
     "execution_count": 16,
     "metadata": {},
     "output_type": "execute_result"
    }
   ],
   "source": [
    "# 3. '상품주문금액'과 '상품목표주문금액'의 차이를 계산하여 '영업이익' 항목을 생성\n",
    "df1['영업이익'] = df1['상품주문금액'] - df1['상품목표주문금액']\n",
    "df1"
   ]
  },
  {
   "cell_type": "code",
   "execution_count": 20,
   "metadata": {},
   "outputs": [],
   "source": [
    "# 4. '방송시작시간' 데이터로부터, 연도/월/요일 을 생성\n",
    "df1['datetime'] = pd.to_datetime(df1['방송시작시간'])\n",
    "df1['연도'] = df1['datetime'].dt.year\n",
    "df1['월'] = df1['datetime'].dt.month\n",
    "df1['요일'] = df1['datetime'].dt.day_name()"
   ]
  },
  {
   "cell_type": "code",
   "execution_count": 21,
   "metadata": {},
   "outputs": [
    {
     "data": {
      "text/html": [
       "<div>\n",
       "<style scoped>\n",
       "    .dataframe tbody tr th:only-of-type {\n",
       "        vertical-align: middle;\n",
       "    }\n",
       "\n",
       "    .dataframe tbody tr th {\n",
       "        vertical-align: top;\n",
       "    }\n",
       "\n",
       "    .dataframe thead th {\n",
       "        text-align: right;\n",
       "    }\n",
       "</style>\n",
       "<table border=\"1\" class=\"dataframe\">\n",
       "  <thead>\n",
       "    <tr style=\"text-align: right;\">\n",
       "      <th>연도</th>\n",
       "      <th>2020</th>\n",
       "      <th>2021</th>\n",
       "      <th>증감율</th>\n",
       "    </tr>\n",
       "    <tr>\n",
       "      <th>방송구분</th>\n",
       "      <th></th>\n",
       "      <th></th>\n",
       "      <th></th>\n",
       "    </tr>\n",
       "  </thead>\n",
       "  <tbody>\n",
       "    <tr>\n",
       "      <th>녹화방송</th>\n",
       "      <td>-1.894549e+08</td>\n",
       "      <td>0.000000e+00</td>\n",
       "      <td>-1.000000</td>\n",
       "    </tr>\n",
       "    <tr>\n",
       "      <th>생방송</th>\n",
       "      <td>-3.573885e+10</td>\n",
       "      <td>-8.152800e+10</td>\n",
       "      <td>1.281215</td>\n",
       "    </tr>\n",
       "    <tr>\n",
       "      <th>재방송</th>\n",
       "      <td>-1.511756e+10</td>\n",
       "      <td>-1.906222e+10</td>\n",
       "      <td>0.260932</td>\n",
       "    </tr>\n",
       "  </tbody>\n",
       "</table>\n",
       "</div>"
      ],
      "text/plain": [
       "연도            2020          2021       증감율\n",
       "방송구분                                      \n",
       "녹화방송 -1.894549e+08  0.000000e+00 -1.000000\n",
       "생방송  -3.573885e+10 -8.152800e+10  1.281215\n",
       "재방송  -1.511756e+10 -1.906222e+10  0.260932"
      ]
     },
     "execution_count": 21,
     "metadata": {},
     "output_type": "execute_result"
    }
   ],
   "source": [
    "# 5. '방송구분'에 따른 '연도'별 '영업이익'의 증감율을 계산\n",
    "\n",
    "p1 = df1.pivot_table(index='방송구분', values='영업이익',\n",
    "                     columns='연도',aggfunc='sum').fillna(0)\n",
    "\n",
    "p1['증감율'] = (p1[2021] - p1[2020]) / p1[2020]\n",
    "p1"
   ]
  },
  {
   "cell_type": "code",
   "execution_count": 22,
   "metadata": {},
   "outputs": [],
   "source": [
    "# 6. '방송시작시간'과 '방송종료시간'의 차이를 계산하여 '방송소요시간' 항목을 생성\n",
    "df1['방송소요시간'] = pd.to_datetime(df1['방송종료시간']) - pd.to_datetime(df1['방송시작시간'])"
   ]
  },
  {
   "cell_type": "code",
   "execution_count": 23,
   "metadata": {},
   "outputs": [
    {
     "data": {
      "text/plain": [
       "2215                   [S]감비천 13주분(감비천액열1주+감비천12주)_3\n",
       "20257                            예다함 상조(19.06 사은품변경)\n",
       "18828                                 예다함 상조(4구좌 추가)\n",
       "19933                            예다함 상조(19.06 사은품변경)\n",
       "21106                            예다함 상조(19.06 사은품변경)\n",
       "4133                 닫음[단품]수앤진골드 NEW골든벨 24K 순금 목걸이_3\n",
       "22795                          중경(임시정부) &  장가계 4박 5일\n",
       "4134                  닫음[단품]수앤진골드 NEW골든벨 24K 순금 팔찌_3\n",
       "4132     [특집전] 수앤진NEW골든벨 24K순금 목걸이+팔찌+1.875g 골드바세트_3\n",
       "15946                                         예다함 상조\n",
       "Name: 상품명, dtype: object"
      ]
     },
     "execution_count": 23,
     "metadata": {},
     "output_type": "execute_result"
    }
   ],
   "source": [
    "# 7. '방송소요시간'이 가장 오래걸린 상위 10개의 광고 품목을 확인\n",
    "df1.sort_values(by='방송소요시간', ascending=False).head(10)['상품명']"
   ]
  },
  {
   "cell_type": "code",
   "execution_count": 24,
   "metadata": {},
   "outputs": [
    {
     "data": {
      "text/html": [
       "<div>\n",
       "<style scoped>\n",
       "    .dataframe tbody tr th:only-of-type {\n",
       "        vertical-align: middle;\n",
       "    }\n",
       "\n",
       "    .dataframe tbody tr th {\n",
       "        vertical-align: top;\n",
       "    }\n",
       "\n",
       "    .dataframe thead th {\n",
       "        text-align: right;\n",
       "    }\n",
       "</style>\n",
       "<table border=\"1\" class=\"dataframe\">\n",
       "  <thead>\n",
       "    <tr style=\"text-align: right;\">\n",
       "      <th></th>\n",
       "      <th>상품주문금액</th>\n",
       "      <th>영업이익</th>\n",
       "    </tr>\n",
       "    <tr>\n",
       "      <th>방송구분</th>\n",
       "      <th></th>\n",
       "      <th></th>\n",
       "    </tr>\n",
       "  </thead>\n",
       "  <tbody>\n",
       "    <tr>\n",
       "      <th>생방송</th>\n",
       "      <td>490453552166</td>\n",
       "      <td>-38166117445</td>\n",
       "    </tr>\n",
       "    <tr>\n",
       "      <th>재방송</th>\n",
       "      <td>346480899</td>\n",
       "      <td>10929779</td>\n",
       "    </tr>\n",
       "  </tbody>\n",
       "</table>\n",
       "</div>"
      ],
      "text/plain": [
       "            상품주문금액         영업이익\n",
       "방송구분                           \n",
       "생방송   490453552166 -38166117445\n",
       "재방송      346480899     10929779"
      ]
     },
     "execution_count": 24,
     "metadata": {},
     "output_type": "execute_result"
    }
   ],
   "source": [
    "# 8. '프로그램명' 항목에서 빈도수가 1000건 이상인 데이터만 추출하여, \n",
    "# '방송구분' 별 '상품주문금액' 과 '영업이익'의 합을 계산하시오\n",
    "\n",
    "df_count = pd.DataFrame(df1['프로그램명'].value_counts())\n",
    "cond1 = (df_count['프로그램명'] >= 1000)\n",
    "\n",
    "list_1000 = df_count.loc[cond1].index.tolist()\n",
    "\n",
    "cond1 =df1['프로그램명'].isin(list_1000)\n",
    "df1.loc[cond1].pivot_table(index='방송구분',  values=['상품주문금액', '영업이익'], aggfunc='sum')\n"
   ]
  },
  {
   "cell_type": "code",
   "execution_count": 25,
   "metadata": {},
   "outputs": [
    {
     "data": {
      "text/plain": [
       "RanksumsResult(statistic=-1.1432589065314094, pvalue=0.2529311112195203)"
      ]
     },
     "execution_count": 25,
     "metadata": {},
     "output_type": "execute_result"
    }
   ],
   "source": [
    "# 9. '방송구분'에서 '생방송'과 '녹화방송'의 매출의 차이를 비교하고자 한다.\n",
    "#     - '영업이익'의 정규성을 확인\n",
    "#     - '생방송'과 '녹화방송' 집단의 '영업이익'의 평균의 차이가 있는지 가설검정을 수행하십시오.\n",
    "\n",
    "stats.normaltest(df1['영업이익'])\n",
    "# p.value < 0.05 / 대립가설 참 / 분포가 정규분포를 따르지 않는다.\n",
    "\n",
    "cond1 = (df1['방송구분'] == '생방송')\n",
    "cond2 = (df1['방송구분'] == '녹화방송')\n",
    "\n",
    "stats.ranksums(df1.loc[cond1]['영업이익'], df1.loc[cond2]['영업이익'])\n",
    "# P.value > 0.05 / 귀무가설 참 / 두 집단의 영업이익 값의 평균의 차이가 없다."
   ]
  },
  {
   "cell_type": "code",
   "execution_count": 26,
   "metadata": {},
   "outputs": [
    {
     "data": {
      "text/plain": [
       "0    2.897498\n",
       "dtype: float64"
      ]
     },
     "execution_count": 26,
     "metadata": {},
     "output_type": "execute_result"
    }
   ],
   "source": [
    "# 10. '방송구분'에서 '녹화방송'에 해당하는 데이터만 추출하여, '영업이익'항목에 대해 RobustScaling을 수행하고, 스케일링 된 '영업이익'의 최대값을 계산하시오.\n",
    "\n",
    "from sklearn.preprocessing import RobustScaler\n",
    "\n",
    "cond1 = (df1['방송구분'] == '녹화방송')\n",
    "df2 = df1.loc[cond1]\n",
    "\n",
    "scaler = RobustScaler()\n",
    "scaler.fit(df2[['영업이익']])\n",
    "\n",
    "df_scale = pd.DataFrame(scaler.fit_transform(df2[['영업이익']]))\n",
    "df_scale.max()\n"
   ]
  },
  {
   "cell_type": "code",
   "execution_count": 27,
   "metadata": {},
   "outputs": [
    {
     "data": {
      "text/plain": [
       "0        0.0\n",
       "1        1.0\n",
       "2        0.0\n",
       "3        0.0\n",
       "4        0.0\n",
       "        ... \n",
       "26278    0.0\n",
       "26279    1.0\n",
       "26280    1.0\n",
       "26281    0.0\n",
       "26282    0.0\n",
       "Name: Target, Length: 26283, dtype: float64"
      ]
     },
     "execution_count": 27,
     "metadata": {},
     "output_type": "execute_result"
    }
   ],
   "source": [
    "# 11. '영업이익'이 양수이면 1 / 음수이면 0으로 변환하여 'Target'항목으로 생성\n",
    "cond1 = (df1['영업이익'] >= 0)\n",
    "df1.loc[cond1, 'Target'] = 1\n",
    "df1.loc[~cond1, 'Target'] = 0\n",
    "df1['Target']"
   ]
  },
  {
   "cell_type": "code",
   "execution_count": 28,
   "metadata": {},
   "outputs": [],
   "source": [
    "# 12. '소요분' / '상품방송순번' / '판매단가' / '수수료율' / 'ARS금액'을 입력했을 때, 'Target'을 분류하는 분류 모델을 생성\n",
    "\n",
    "X = df1[['소요분','상품방송순번','판매단가','수수료율', 'ARS금액']]\n",
    "Y = df1['Target']"
   ]
  },
  {
   "cell_type": "code",
   "execution_count": 29,
   "metadata": {},
   "outputs": [],
   "source": [
    "from sklearn.model_selection import train_test_split\n",
    "from imblearn.pipeline import make_pipeline\n",
    "from sklearn.impute import KNNImputer\n",
    "from sklearn.preprocessing import StandardScaler\n",
    "from sklearn.tree   import DecisionTreeClassifier\n",
    "from sklearn.model_selection import GridSearchCV"
   ]
  },
  {
   "cell_type": "code",
   "execution_count": 32,
   "metadata": {},
   "outputs": [],
   "source": [
    "X_train, X_test, Y_train, Y_test = train_test_split(X,Y, random_state=1234)\n",
    "\n",
    "model_pipe = make_pipeline(KNNImputer(), StandardScaler()\n",
    "                            , DecisionTreeClassifier())\n",
    "\n",
    "hyperparameter_list = {'decisiontreeclassifier__max_depth' : range(5,11)\n",
    "                        , 'decisiontreeclassifier__min_samples_split' : range(5,11)\n",
    "                        , 'decisiontreeclassifier__min_samples_leaf' : range(5,11)}\n",
    "\n",
    "grid_model = GridSearchCV(model_pipe, cv=5, param_grid={}, scoring='f1', n_jobs=-1)\n",
    "grid_model.fit(X_train, Y_train)\n",
    "\n",
    "best_model = grid_model.best_estimator_\n"
   ]
  },
  {
   "cell_type": "code",
   "execution_count": 33,
   "metadata": {},
   "outputs": [],
   "source": [
    "# 평가\n",
    "from sklearn.metrics import classification_report\n",
    "\n",
    "def evaluation_func_class(best_model) :\n",
    "    Y_train_pred = best_model.predict(X_train)\n",
    "    Y_test_pred = best_model.predict(X_test)\n",
    "    print('학습능력평가')\n",
    "    print(classification_report(Y_train, Y_train_pred))\n",
    "    print('일반화능력평가')\n",
    "    print(classification_report(Y_test, Y_test_pred))"
   ]
  },
  {
   "cell_type": "code",
   "execution_count": 34,
   "metadata": {},
   "outputs": [
    {
     "name": "stdout",
     "output_type": "stream",
     "text": [
      "학습능력평가\n",
      "              precision    recall  f1-score   support\n",
      "\n",
      "         0.0       0.82      0.96      0.89     12204\n",
      "         1.0       0.91      0.66      0.77      7508\n",
      "\n",
      "    accuracy                           0.85     19712\n",
      "   macro avg       0.87      0.81      0.83     19712\n",
      "weighted avg       0.86      0.85      0.84     19712\n",
      "\n",
      "일반화능력평가\n",
      "              precision    recall  f1-score   support\n",
      "\n",
      "         0.0       0.70      0.81      0.75      4129\n",
      "         1.0       0.56      0.42      0.48      2442\n",
      "\n",
      "    accuracy                           0.66      6571\n",
      "   macro avg       0.63      0.62      0.62      6571\n",
      "weighted avg       0.65      0.66      0.65      6571\n",
      "\n"
     ]
    }
   ],
   "source": [
    "evaluation_func_class(best_model)"
   ]
  },
  {
   "cell_type": "code",
   "execution_count": 35,
   "metadata": {},
   "outputs": [
    {
     "data": {
      "text/plain": [
       "(186.52831987660014,\n",
       " 1.8203703751506522e-42,\n",
       " 1,\n",
       " array([[20743.3367576,  4520.6632424],\n",
       "        [  836.6632424,   182.3367576]]))"
      ]
     },
     "execution_count": 35,
     "metadata": {},
     "output_type": "execute_result"
    }
   ],
   "source": [
    "# 13. '매입형태'와 '매입과세구분'의 연관성이 있는지 가설검정을 수행\n",
    "\n",
    "df1_table = pd.crosstab(df1['매입형태'], df1['매입과세구분'])\n",
    "stats.chi2_contingency(df1_table)\n",
    "# 통계량 / P.value / 자유도 / 기댓값\n",
    "# P.value < 0.05 대립가설 참 / '매입형태'와 '매입과세구분' 간의 연관성이 있다."
   ]
  },
  {
   "cell_type": "markdown",
   "metadata": {},
   "source": [
    "# Mission 9"
   ]
  },
  {
   "cell_type": "code",
   "execution_count": null,
   "metadata": {},
   "outputs": [],
   "source": [
    "# 11. 'Y1A'값이 상위 90%이상인 값을 1, 미만인 값을 0로 변환하여 'Target'값으로 선언한 뒤, A1 ~ A6 값을 넣었을 때, Target을 분류하는 분류모델 생성\n",
    "#    - 8:2 비율로 학습데이터와 검증 데이터 분할 \n",
    "#    - Min Max Scaling 기법과 Imputation(평균대치), 교차검증 5회 \n",
    "#    - 가장 성능이 좋은 모델을 찾아, model_target.sav이름으로 저장 \n",
    "#    - 평가 : 학습능력평가 / 일반화능력평가 "
   ]
  },
  {
   "cell_type": "code",
   "execution_count": 37,
   "metadata": {},
   "outputs": [],
   "source": [
    "df3 = pd.read_csv('09_Data.csv')"
   ]
  },
  {
   "cell_type": "code",
   "execution_count": 38,
   "metadata": {},
   "outputs": [],
   "source": [
    "cond1 = (df3['Y1A'] >= df3['Y1A'].quantile(0.09))\n",
    "\n",
    "df3.loc[cond1, 'Target'] = 1\n",
    "df3.loc[~cond1, 'Target'] = 0"
   ]
  },
  {
   "cell_type": "code",
   "execution_count": 49,
   "metadata": {},
   "outputs": [],
   "source": [
    "from sklearn.preprocessing import MinMaxScaler\n",
    "from sklearn.tree import DecisionTreeClassifier\n",
    "from imblearn.over_sampling import SMOTE\n"
   ]
  },
  {
   "cell_type": "code",
   "execution_count": 50,
   "metadata": {},
   "outputs": [],
   "source": [
    "X = df3[['A1', 'A2', 'A3' ,'A4', 'A5', 'A6']]\n",
    "Y = df3['Target']"
   ]
  },
  {
   "cell_type": "code",
   "execution_count": 51,
   "metadata": {},
   "outputs": [],
   "source": [
    "X_train, X_test, Y_train, Y_test = train_test_split(X,Y, random_state = 1234)"
   ]
  },
  {
   "cell_type": "code",
   "execution_count": 62,
   "metadata": {},
   "outputs": [],
   "source": [
    "model_pipe = make_pipeline( SimpleImputer(), MinMaxScaler(), SMOTE(),\n",
    "                            DecisionTreeClassifier())\n",
    "\n",
    "hyper_paramter = {'decisiontreeclassifier__max_depth':range(5,11),\n",
    "                  'decisiontreeclassifier__min_samples_split':range(5,11),\n",
    "                  'decisiontreeclassifier__class_weight':['balanced']}\n",
    "\n",
    "grid_model = GridSearchCV(model_pipe, cv=5, scoring='f1', n_jobs = -1, \n",
    "                          param_grid=hyper_paramter)\n",
    "grid_model.fit(X_train, Y_train)\n",
    "best_model = grid_model.best_estimator_"
   ]
  },
  {
   "cell_type": "code",
   "execution_count": 55,
   "metadata": {},
   "outputs": [],
   "source": [
    "from sklearn.metrics import classification_report"
   ]
  },
  {
   "cell_type": "code",
   "execution_count": 56,
   "metadata": {},
   "outputs": [],
   "source": [
    "Y_train_pred = best_model.predict(X_train)\n",
    "Y_test_pred = best_model.predict(X_test)"
   ]
  },
  {
   "cell_type": "code",
   "execution_count": 59,
   "metadata": {},
   "outputs": [
    {
     "name": "stdout",
     "output_type": "stream",
     "text": [
      "              precision    recall  f1-score   support\n",
      "\n",
      "         0.0       1.00      1.00      1.00        30\n",
      "         1.0       1.00      1.00      1.00       325\n",
      "\n",
      "    accuracy                           1.00       355\n",
      "   macro avg       1.00      1.00      1.00       355\n",
      "weighted avg       1.00      1.00      1.00       355\n",
      "\n"
     ]
    }
   ],
   "source": [
    "print(classification_report(Y_train, Y_train_pred))"
   ]
  },
  {
   "cell_type": "code",
   "execution_count": 58,
   "metadata": {},
   "outputs": [
    {
     "data": {
      "text/plain": [
       "'              precision    recall  f1-score   support\\n\\n         0.0       0.29      0.54      0.38        13\\n         1.0       0.94      0.84      0.89       106\\n\\n    accuracy                           0.81       119\\n   macro avg       0.61      0.69      0.63       119\\nweighted avg       0.87      0.81      0.83       119\\n'"
      ]
     },
     "execution_count": 58,
     "metadata": {},
     "output_type": "execute_result"
    }
   ],
   "source": [
    "print(classification_report(Y_test, Y_test_pred))"
   ]
  },
  {
   "cell_type": "code",
   "execution_count": null,
   "metadata": {},
   "outputs": [],
   "source": []
  },
  {
   "cell_type": "code",
   "execution_count": null,
   "metadata": {},
   "outputs": [],
   "source": []
  }
 ],
 "metadata": {
  "kernelspec": {
   "display_name": "Python 3.9.0b3 64-bit",
   "language": "python",
   "name": "python3"
  },
  "language_info": {
   "codemirror_mode": {
    "name": "ipython",
    "version": 3
   },
   "file_extension": ".py",
   "mimetype": "text/x-python",
   "name": "python",
   "nbconvert_exporter": "python",
   "pygments_lexer": "ipython3",
   "version": "3.9.0b3"
  },
  "orig_nbformat": 4,
  "vscode": {
   "interpreter": {
    "hash": "81794d4967e6c3204c66dcd87b604927b115b27c00565d3d43f05ba2f3a2cb0d"
   }
  }
 },
 "nbformat": 4,
 "nbformat_minor": 2
}
